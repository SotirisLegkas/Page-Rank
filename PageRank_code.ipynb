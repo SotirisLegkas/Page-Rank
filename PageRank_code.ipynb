{
 "cells": [
  {
   "cell_type": "markdown",
   "id": "52973062",
   "metadata": {},
   "source": [
    "### \"Numerical optimization and large scale linear algebra\""
   ]
  },
  {
   "cell_type": "code",
   "execution_count": 69,
   "id": "4b5fce92",
   "metadata": {},
   "outputs": [],
   "source": [
    "from scipy import sparse\n",
    "import numpy as np\n",
    "import pandas as pd\n",
    "from numpy.linalg import norm\n",
    "from scipy.stats import rankdata\n",
    "import time\n",
    "import os\n",
    "import matplotlib.pyplot as plt"
   ]
  },
  {
   "cell_type": "markdown",
   "id": "9c469385",
   "metadata": {},
   "source": [
    "#### 1. Να βρεθεί το διάνυσμα π με την μέθοδο των δυνάμεων. α = 0.85, το κριτήριο τερματισμού τ = $10^{−8}$ και το διάνυσμα a έχει 1 αν αντιστοιχεί σε κόμβο που δεν έχει προς τα έξω συνδέσμους και 0 αλλού."
   ]
  },
  {
   "cell_type": "markdown",
   "id": "d51a7eea",
   "metadata": {},
   "source": [
    "Based on \"Deeper Inside PageRank\" paper, we need to follow some specific steps to retrieve the page rank vector π. First, the probability square matrix P needs to be created, whose rows $\\textbf{i}$ represent the nodes and the columns $\\textbf{j}$ represent the outlinks of these nodes. The value in page $\\textbf{i}$ to page $\\textbf{j}$ represents the probability that page $\\textbf{i}$ will move to page $\\textbf{j}$ in one step. This probability is calculated by finding the number of outlinks that each node has and assign the same weighted probability in each outlink. Hence, the probabilities in each row will sum up to one. \n",
    "\n",
    "The paper mentions that matrix ̅P should be created which changes danglings nodes in P matrix to non-danglings and finally matrix ̿P, which turns zero values to (1/n) where n is the number of nodes (pages). However, due to storage issues in python the sparse matrix P will be used. \n",
    "\n",
    "Finally, the paper mentions that the PageRank vector can be viewed as an eigenvector problem and concludes that through the power method we can calculate π using only sparse matrix P. Therefore, through some iterations in power method we calculate π with the following equation:\n",
    "\n",
    "$$\\textbf{x}^{(k)T}=\\alpha\\textbf{x}^{(k−1)T}P+(\\alpha\\textbf{x}^{(k−1)T}\\textbf{a}+(1−\\alpha))\\textbf{v}^T $$\n",
    "\n",
    "where $\\textbf{a}$ is a vector which takes the value 1 in danglings nodes and zero otherwise. $\\textbf{α}$ is a given constant and $\\textbf{v}^T$ is a vector with size $\\textbf{n}$ which contains the value $\\textbf{1/n}$. Lastly, the iterations stop when the 1-norm of  $\\textbf{x}^{(k)T}-\\textbf{x}^{(k−1)T}$ is smaller than the terminate criterion of $10^{−8}$.\n",
    "\n",
    "Some of the advantages of this method are that in each iteration it only requires the storage of one vector and normally needs roughly 50 to 100 iterations."
   ]
  },
  {
   "cell_type": "code",
   "execution_count": 70,
   "id": "8679dfe9",
   "metadata": {},
   "outputs": [],
   "source": [
    "#Import the file by reading each line (from the second line which includes nodes and outlinks)\n",
    "path=r'Insert path.......................................................'\n",
    "os.chdir(path)\n",
    "file=open('out.web-BerkStan','r').readlines()[2:]"
   ]
  },
  {
   "cell_type": "code",
   "execution_count": 71,
   "id": "5dbd8270",
   "metadata": {},
   "outputs": [],
   "source": [
    "#Create two DataFrames which include nodes and outlinks\n",
    "#Subtruct 1 from each node and outlink, because each matrix index starts from zero \n",
    "nodes=[]\n",
    "outlink=[]\n",
    "for i in range(len(file)):\n",
    "    nodes.append(int(file[i].split()[0])-1)\n",
    "    outlink.append(int(file[i].split()[1])-1)\n",
    "    \n",
    "nodes1=pd.DataFrame(nodes)\n",
    "nodes1=nodes1.rename(columns={0:'node'})\n",
    "outlink1=pd.DataFrame(outlink)\n",
    "outlink1=outlink1.rename(columns={0:'outlink'})"
   ]
  },
  {
   "cell_type": "code",
   "execution_count": 72,
   "id": "d94b31ac",
   "metadata": {},
   "outputs": [],
   "source": [
    "#Create the weights that the sprarse matrix P will contain\n",
    "\n",
    "#Calculate how many times each node appears in nodes1 DataFrame\n",
    "counts1 =nodes1['node'].value_counts()\n",
    "\n",
    "#Calculate the weight of each node\n",
    "nodes1['weight'] = nodes1['node'].apply(lambda x: 1/counts1[x])"
   ]
  },
  {
   "cell_type": "code",
   "execution_count": 73,
   "id": "51fcc113",
   "metadata": {},
   "outputs": [],
   "source": [
    "#Construct sparse matrix P as in pageranking.pdf\n",
    "P1=sparse.csr_matrix((nodes1['weight'],(nodes1['node'],outlink1['outlink'])))"
   ]
  },
  {
   "cell_type": "code",
   "execution_count": 74,
   "id": "0debe693",
   "metadata": {},
   "outputs": [],
   "source": [
    "#Number of nodes\n",
    "n1=P1.shape[0]\n",
    "\n",
    "#Create a starting vector X\n",
    "X0=np.array([1/n1]*n1)\n",
    "\n",
    "#Create v vector as in pageranking.pdf\n",
    "v=np.array([1/n1]*n1)\n",
    "\n",
    "alpha1=0.85\n",
    "\n",
    "#Terminate criterion of power method\n",
    "t=10**(-8)"
   ]
  },
  {
   "cell_type": "code",
   "execution_count": 75,
   "id": "c295e4d8",
   "metadata": {},
   "outputs": [],
   "source": [
    "#Create fuction for vector a (dangling nodes take the value 1)\n",
    "def a_function(n,p):\n",
    "    a=[]\n",
    "    for i in range(n):\n",
    "        if p[i,:].count_nonzero()==0:\n",
    "            a.append(1)\n",
    "        else:\n",
    "            a.append(0)    \n",
    "    a=np.array(a)\n",
    "    return a"
   ]
  },
  {
   "cell_type": "code",
   "execution_count": 76,
   "id": "1f91306a",
   "metadata": {},
   "outputs": [],
   "source": [
    "#Create function for X vector through power method\n",
    "def X_function(X0,p,t,alpha,a,v):   \n",
    "    terminate=10**100\n",
    "    iteration=0\n",
    "    while terminate>t:\n",
    "        X=alpha*sparse.csr_matrix.dot(X0.T,p)+(alpha*np.dot(X0.T,a)+(1-alpha))*v.T\n",
    "        terminate=norm(X-X0,1)\n",
    "        X0=X\n",
    "        iteration=iteration+1\n",
    "    return X,iteration"
   ]
  },
  {
   "cell_type": "code",
   "execution_count": 77,
   "id": "55379818",
   "metadata": {},
   "outputs": [],
   "source": [
    "#Calculate vector a\n",
    "a1=a_function(n1,P1)"
   ]
  },
  {
   "cell_type": "code",
   "execution_count": 78,
   "id": "4f7dc620",
   "metadata": {},
   "outputs": [
    {
     "name": "stdout",
     "output_type": "stream",
     "text": [
      "Power method needed 2.110398054122925 seconds and  92 iterations\n"
     ]
    }
   ],
   "source": [
    "#Calculate X vector with power method\n",
    "start_time = time.time()\n",
    "X1,iteration1=X_function(X0,P1,t,alpha1,a1,v)\n",
    "\n",
    "#Calculate the time and number of iterations of power method\n",
    "print(\"Power method needed\",time.time()-start_time,\"seconds and \", iteration1, \"iterations\")"
   ]
  },
  {
   "cell_type": "code",
   "execution_count": 79,
   "id": "c404cfda",
   "metadata": {},
   "outputs": [],
   "source": [
    "#Rank each node based on the X\n",
    "rank1=rankdata(X1,method='ordinal')\n",
    "\n",
    "#Sort the ranked nodes\n",
    "sorted1=np.argsort(rank1)"
   ]
  },
  {
   "cell_type": "markdown",
   "id": "69f048d8",
   "metadata": {},
   "source": [
    "### * Note 1:\n",
    "#### The vector X which is calculated above is the vector π which is needed for this assignment"
   ]
  },
  {
   "cell_type": "markdown",
   "id": "23ed4e89",
   "metadata": {},
   "source": [
    "### ** Note 2:\n",
    "#### Rankdata which is used above, ranks each node from worst to best, as it assigns the rank 1 to the node with the lowest value in vector π and the rank 685230 to the best node.\n",
    "#### Sorted1 vector sorts the nodes from the worst to the best node. (Due to convenience nodes start from zero to 685229. Hence, the nodes in reality need the addition of 1)"
   ]
  },
  {
   "cell_type": "markdown",
   "id": "50774081",
   "metadata": {},
   "source": [
    "#### 2. Επαναλάβετε το προηγούμενο ερώτημα με a = 0.99. Τι παρατηρείτε; ΄Αλλαξε το ranking το 100 πρώτων κόμβων;\n"
   ]
  },
  {
   "cell_type": "markdown",
   "id": "9f7ea2f1",
   "metadata": {},
   "source": [
    "Based on the paper, the rate of convergence depends on how small α is. \"The smaller α is, the faster the convergence, but the smaller α is, the less the true hyperlink structure of the web is used to determine webpage importance\". Also, different α values create very different PageRanks. A value of α equal to 0.99 is expected to converge drastically slower with many more iterations."
   ]
  },
  {
   "cell_type": "code",
   "execution_count": 85,
   "id": "508fd62b",
   "metadata": {},
   "outputs": [
    {
     "name": "stdout",
     "output_type": "stream",
     "text": [
      "Power method needed 35.49827313423157 seconds and  1429 iterations\n"
     ]
    }
   ],
   "source": [
    "alpha2=0.99\n",
    "\n",
    "#Calculate X vector with power method\n",
    "start_time = time.time()\n",
    "X2,iteration2=X_function(X0,P1,t,alpha2,a1,v)\n",
    "\n",
    "#Calculate the time and number of iterations of power method\n",
    "print(\"Power method needed\",time.time()-start_time,\"seconds and \", iteration2, \"iterations\")"
   ]
  },
  {
   "cell_type": "code",
   "execution_count": 86,
   "id": "5620d413",
   "metadata": {},
   "outputs": [],
   "source": [
    "#Rank each node based on the X\n",
    "rank2=rankdata(X2,method='ordinal')\n",
    "\n",
    "#Sort the ranked nodes\n",
    "sorted2=np.argsort(rank2)"
   ]
  },
  {
   "cell_type": "markdown",
   "id": "b2e781ca",
   "metadata": {},
   "source": [
    "### ** Note 2:\n",
    "#### Rankdata which is used above, ranks each node from worst to best, as it assigns the rank 1 to the node with the lowest value in vector π and the rank 685230 to the best node.\n",
    "#### Sorted2 vector sorts the nodes from the worst to the best node. (Due to convenience nodes start from zero to 685229. Hence, the nodes in reality need the addition of 1)"
   ]
  },
  {
   "cell_type": "code",
   "execution_count": 96,
   "id": "026431a9",
   "metadata": {},
   "outputs": [
    {
     "name": "stdout",
     "output_type": "stream",
     "text": [
      "Ranking of the 100 best nodes from question 1.\n",
      "\n",
      "[  1801  70703    116  52197 220433 554444 660718 660740 483193 660727\n",
      "  55930  55929 554443 288244   1802   1792 508978 509000 288257  55928\n",
      " 508616 508987  55359  53846    627 278504  54139    625    626    619\n",
      "    616 184998    618  65162  47429    652    590 289061    597  65160\n",
      " 483447 483469    609    610  54197 288247  54190 482867  54187  54201\n",
      " 483456  54199  54195  54196  54188  54202 288968  54198  65161  51589\n",
      "  51594    608 476640  71440    503    507    499    508    506    500\n",
      "  51554  54208  54200    601    598 288246    473    474    475    478\n",
      "    496    497    498    501    502    505    476    477    471  51591\n",
      "    115    114  65123 288347 564115   1284  54131 225466     10 288239] \n",
      "\n",
      "Ranking of the 100 best nodes from question 2.\n",
      "\n",
      "[ 70699  51594  53838  70703 332486  51556 152822  65610  65614 660718\n",
      "  65612  65613 660740  65615  65611  47442    114 483193 660727  55930\n",
      "  55929   1088   1089  51567 451664 508978 509000 379622 199990 199991\n",
      " 508616 508987  53855 466843    115 288730  55928 225577 466844 278504\n",
      "  55359  51558 466842 119871  54197  54190  54187  54201  54199  54195\n",
      "  54196 466841  54188  54202 483447 483469  54198  54142  54143  70550\n",
      " 482867 483456  70584  54131 288347  51591 225466   2121  54200  54208\n",
      "  53846 288244  71440    503    507    499    508    506    500 564115\n",
      "    473    474    475    478    496    497    498    501    502    505\n",
      "    476    477    471  54141  47429     10 288731 288239   1284  51554]\n"
     ]
    }
   ],
   "source": [
    "print(\"Ranking of the 100 best nodes from question 1.\\n\")\n",
    "print(sorted1[-100:]+1,'\\n')\n",
    "print(\"Ranking of the 100 best nodes from question 2.\\n\")\n",
    "print(sorted2[-100:]+1)"
   ]
  },
  {
   "cell_type": "code",
   "execution_count": 97,
   "id": "225d8512",
   "metadata": {},
   "outputs": [
    {
     "name": "stdout",
     "output_type": "stream",
     "text": [
      "The ranking of the 100 best nodes changed.\n"
     ]
    }
   ],
   "source": [
    "print(\"The ranking of the 100 best nodes changed.\")"
   ]
  },
  {
   "cell_type": "markdown",
   "id": "1c87f32f",
   "metadata": {},
   "source": [
    "#### 3. ΄Οταν χρησιμοποιούμε την μέθοδο των δυνάμεων, όλες οι συνιστώσες του π (δηλαδή οι αξιολογήσεις των αντίστοιχων κόμβων) συγκλίνουν το ίδιο γρήγορα στην τελική τους τιμή; Αν όχι, ποιες συγκλίνουν γρηγορότερα: Οι σημαντικές ή οι μη σημαντικές ;"
   ]
  },
  {
   "cell_type": "markdown",
   "id": "32813c59",
   "metadata": {},
   "source": [
    "To determine if the best and worst nodes converge at the same rate, a graph of the best and worst nodes through the iterations is plotted. The graph shows that the best node does not converge at the same rate as the worst node. However, this may be due to difference in scaling of the values. Nevertheless, the worst node seems to be really close to zero from the first iteration.\n",
    "\n",
    "Stronger evidence come from the second method that was used to determine the convergence of the nodes. In this method, the power method is used but in the second iteration the 100 best and 100 worst nodes are checked to conclude if they have converged with the criterion of the norm of the difference in each node between the present and the previous value to be smaller than τ = $10^{−8}$.\n",
    "\n",
    "The results suggested that in the second iteration none of the 100 best nodes converged, while all 100 worst nodes had already converged. The same test was applied for different number of iterations and number of best and worst nodes and the results remained the same."
   ]
  },
  {
   "cell_type": "code",
   "execution_count": 99,
   "id": "f2e4e322",
   "metadata": {},
   "outputs": [],
   "source": [
    "#Find the best and worst nodes\n",
    "maxindex=np.argmax(X1)\n",
    "minindex=np.argmin(X1)\n",
    "\n",
    "#Create two lists which include the values of the best and the worst node through the itereations of power method\n",
    "Xmax=[]\n",
    "Xmin=[]\n",
    "X0=np.array([1/n1]*n1)\n",
    "terminate=10**100\n",
    "while terminate>t:\n",
    "    X=alpha1*sparse.csr_matrix.dot(X0.T,P1)+(alpha1*np.dot(X0.T,a1)+(1-alpha1))*v.T\n",
    "    Xmax.append(X[maxindex])\n",
    "    Xmin.append(X[minindex])\n",
    "    terminate=norm(X-X0,1)\n",
    "    X0=X"
   ]
  },
  {
   "cell_type": "code",
   "execution_count": 100,
   "id": "83dece90",
   "metadata": {},
   "outputs": [
    {
     "data": {
      "image/png": "[encoded data removed]",
      "text/plain": [
       "<Figure size 432x288 with 1 Axes>"
      ]
     },
     "metadata": {
      "needs_background": "light"
     },
     "output_type": "display_data"
    }
   ],
   "source": [
    "#Plot the values of the best and worst node through the first 10 iterations\n",
    "plt.plot(Xmin[:10],label='worst node')\n",
    "plt.plot(Xmax[:10],label='best node')\n",
    "plt.legend()\n",
    "plt.xlabel(\"Number of iterations\")\n",
    "plt.ylabel(\"Values of X through power method\")\n",
    "plt.show()"
   ]
  },
  {
   "cell_type": "code",
   "execution_count": 101,
   "id": "1aa2b3e9",
   "metadata": {},
   "outputs": [
    {
     "name": "stdout",
     "output_type": "stream",
     "text": [
      "None of the best nodes converged\n",
      "All of the worst nodes converged\n"
     ]
    }
   ],
   "source": [
    "#Run the power method for only 2 iterations\n",
    "#In the second iteration append in a list those nodes that converged\n",
    "#The converge criterion was the norm of the difference in each node between the present and the previous value to be smaller than τ = 10^(−8)\n",
    "X0=np.array([1/n1]*n1)\n",
    "terminate=10**100\n",
    "converge=[]\n",
    "iteration=0\n",
    "while terminate>t:\n",
    "    X=alpha1*sparse.csr_matrix.dot(X0.T,P1)+(alpha1*np.dot(X0.T,a1)+(1-alpha1))*v.T\n",
    "    if iteration==2:\n",
    "        for i in range(n1):\n",
    "            if norm(X[i]-X0[i])<t:\n",
    "                converge.append(i)\n",
    "    terminate=norm(X-X0,1)\n",
    "    X0=X\n",
    "    iteration=iteration+1\n",
    "\n",
    "    \n",
    "#Test if the 100 best and worst node have converged (if they exist in converge list)\n",
    "check100best=[]\n",
    "for i in sorted1[-100:]:\n",
    "    if i in converge:\n",
    "        check100best.append(i)\n",
    "check100worst=[]\n",
    "for i in sorted1[:100]:\n",
    "    if i in converge:\n",
    "        check100worst.append(i)\n",
    "        \n",
    "\n",
    "if len(check100best)==0:\n",
    "    print('None of the best nodes converged')\n",
    "elif len(check100best)==100:\n",
    "    print('All of the best nodes converged')\n",
    "else:\n",
    "    print(\"Some of the best nodes converged\")\n",
    "if len(check100worst)==0:\n",
    "    print('None of the worst nodes converged')\n",
    "elif len(check100worst)==100:\n",
    "    print('All of the worst nodes converged')\n",
    "else:\n",
    "    print(\"Some of the worst converged\")"
   ]
  },
  {
   "cell_type": "code",
   "execution_count": 137,
   "id": "9d48e883",
   "metadata": {},
   "outputs": [
    {
     "name": "stdout",
     "output_type": "stream",
     "text": [
      "[]\n",
      "[778, 779, 780, 781, 2860, 3226, 3367, 3368, 3557, 3558, 3559, 3742, 3743, 3744, 3914, 3915, 3916, 4125, 4151, 4177, 4204, 4391, 4392, 4393, 4534, 4535, 4562, 4563, 4590, 4615, 4645, 4673, 4968, 4995, 5022, 5048, 5171, 5172, 5199, 5200, 5252, 5435, 5436, 5437, 5438, 5465, 5653, 5654, 5655, 5682, 5869, 5870, 5871, 6054, 6055, 6056, 6244, 6245, 6246, 6421, 6561, 6562, 6742, 6743, 6744, 6932, 6933, 6934, 7119, 7120, 7121, 7326, 7352, 7378, 7403, 7589, 7590, 7591, 7728, 7729, 7756, 7757, 7784, 7811, 7837, 7863, 8028, 8054, 8081, 8108, 8243, 8244, 8271, 8272, 8299, 8324, 8510, 8511, 8512, 8513]\n"
     ]
    }
   ],
   "source": [
    "print(check100best)\n",
    "print(check100worst)"
   ]
  },
  {
   "cell_type": "markdown",
   "id": "85b9f285",
   "metadata": {},
   "source": [
    "#### 4. Προσθέστε έναν δικό σας, επιπλέον, κόμβο ο οποίος να ‘δείχνει ’ στους 10 σημαντικότερους (με α = 0.85 ) κόμβους και να έχει in-links από 500 κόμβους που ήταν στην προηγούμενη αξιολόγηση κάτω από την μέση. Ξανατρέξτε τις παραπάνω μεθόδους. Σε ποια θέση αξιολογήθηκε ο νέος κόμβος;"
   ]
  },
  {
   "cell_type": "markdown",
   "id": "e1b2f257",
   "metadata": {},
   "source": [
    "For this task we add one extra node in the matrix P. The shape of this matrix will become (685231,685231). The row with the new node will include the probability (1/10) in the top 10 nodes (outlinks). Also, some random nodes with ranking below the middle will change their probability distributed in their rows as they will connect to the new node."
   ]
  },
  {
   "cell_type": "code",
   "execution_count": 103,
   "id": "69b03f59",
   "metadata": {},
   "outputs": [],
   "source": [
    "#Create DataFrame with the 10 best nodes\n",
    "top10=sorted1[-10:]\n",
    "top10=pd.DataFrame(top10)\n",
    "top10=top10.rename(columns={0:'outlink'})"
   ]
  },
  {
   "cell_type": "code",
   "execution_count": 104,
   "id": "f5fa018b",
   "metadata": {},
   "outputs": [],
   "source": [
    "#Select a random seed\n",
    "np.random.seed(seed=1111)\n",
    "\n",
    "#Create a list with nodes that were below the middle in ranking\n",
    "midbottom=sorted1[:(int((len(sorted1))/2))]\n",
    "\n",
    "#Create a random list with 500 nodes below the middle in ranking\n",
    "mid500=np.random.choice(midbottom,500,replace=False)\n",
    "mid500=pd.DataFrame(mid500)\n",
    "mid500=mid500.rename(columns={0:'node'})"
   ]
  },
  {
   "cell_type": "code",
   "execution_count": 105,
   "id": "8f32988f",
   "metadata": {},
   "outputs": [],
   "source": [
    "#Create DataFrame with the new node that will be added 10 times (as the new node has 10 outlinks)\n",
    "#The new node will take tha value 68230 as the nodes start from zero. In reality this node is 68231\n",
    "newnodes1=[n1]*10\n",
    "newnodes1=pd.DataFrame(newnodes1)\n",
    "newnodes1=newnodes1.rename(columns={0:'node'})"
   ]
  },
  {
   "cell_type": "code",
   "execution_count": 106,
   "id": "80cf5fa1",
   "metadata": {},
   "outputs": [],
   "source": [
    "#Concatenate the new nodes and outlinks with the ones that already exist\n",
    "nodes4=pd.concat([nodes1,newnodes1])\n",
    "outlink4=pd.concat([outlink1,top10])"
   ]
  },
  {
   "cell_type": "code",
   "execution_count": 107,
   "id": "96575d09",
   "metadata": {},
   "outputs": [],
   "source": [
    "#Create DataFrame with the new outlink that will be added 500 times (as the new outlink has 500 different nodes)\n",
    "#The new outlink will take tha value 68230 as the outlink start from zero. In reality this outlink is 68231\n",
    "newoutlink1=[n1]*500\n",
    "newoutlink1=pd.DataFrame(newoutlink1)\n",
    "newoutlink1=newoutlink1.rename(columns={0:'outlink'})"
   ]
  },
  {
   "cell_type": "code",
   "execution_count": 108,
   "id": "aa7da4ef",
   "metadata": {},
   "outputs": [],
   "source": [
    "#Concatenate the new nodes and outlinks with the ones that already exist\n",
    "nodes4=pd.concat([nodes4,mid500])\n",
    "outlink4=pd.concat([outlink4,newoutlink1])"
   ]
  },
  {
   "cell_type": "code",
   "execution_count": 109,
   "id": "6686fc62",
   "metadata": {},
   "outputs": [],
   "source": [
    "#Create the weights that the sprarse matrix P will contain\n",
    "\n",
    "#Calculate how many times each node appears in nodes4 DataFrame\n",
    "counts4 =nodes4['node'].value_counts()\n",
    "\n",
    "#Calculate the weight of each node\n",
    "nodes4['weight'] = nodes4['node'].apply(lambda x: 1/counts4[x])"
   ]
  },
  {
   "cell_type": "code",
   "execution_count": 110,
   "id": "e3f84712",
   "metadata": {},
   "outputs": [],
   "source": [
    "#Construct sparse matrix P as in pageranking.pdf\n",
    "P4=sparse.csr_matrix((nodes4['weight'],(nodes4['node'],outlink4['outlink'])))"
   ]
  },
  {
   "cell_type": "code",
   "execution_count": 111,
   "id": "93b995d7",
   "metadata": {},
   "outputs": [],
   "source": [
    "#Number of nodes\n",
    "n4=P4.shape[0]\n",
    "\n",
    "#Create a starting vector X\n",
    "X0=np.array([1/n4]*n4)\n",
    "\n",
    "#Create v vector as in pageranking.pdf\n",
    "v4=np.array([1/n4]*n4)"
   ]
  },
  {
   "cell_type": "code",
   "execution_count": 112,
   "id": "d3edbd3e",
   "metadata": {},
   "outputs": [],
   "source": [
    "#Calculate vector a\n",
    "a4=a_function(n4,P4)"
   ]
  },
  {
   "cell_type": "code",
   "execution_count": 113,
   "id": "a9f649c3",
   "metadata": {},
   "outputs": [
    {
     "name": "stdout",
     "output_type": "stream",
     "text": [
      "Power method needed 2.020200729370117 seconds and  92 iterations\n"
     ]
    }
   ],
   "source": [
    "#Calculate X vector with power method\n",
    "start_time = time.time()\n",
    "X4,iteration4=X_function(X0,P4,t,alpha1,a4,v4)\n",
    "\n",
    "#Calculate the time and number of iterations of power method\n",
    "print(\"Power method needed\",time.time()-start_time,\"seconds and \", iteration4, \"iterations\")"
   ]
  },
  {
   "cell_type": "code",
   "execution_count": 114,
   "id": "d676adb6",
   "metadata": {},
   "outputs": [],
   "source": [
    "#Rank each node based on the X\n",
    "rank4=rankdata(([-1 * i for i in X4]),method='ordinal') \n",
    "\n",
    "#Sort the ranked nodes\n",
    "sorted4=np.argsort(rank4)"
   ]
  },
  {
   "cell_type": "markdown",
   "id": "46a13f25",
   "metadata": {},
   "source": [
    "### *** Note 3:\n",
    "#### Rankdata which is used above, ranks each node from best to worst, as it assigns the rank 1 to the node with the highest value in vector π and the rank 685231 to the worst node.\n",
    "#### Sorted4 vector sorts the nodes from the best to the worst node. (Due to convenience nodes start from zero to 685230. Hence, the nodes in reality need the addition of 1)"
   ]
  },
  {
   "cell_type": "code",
   "execution_count": 115,
   "id": "c93144b1",
   "metadata": {},
   "outputs": [
    {
     "name": "stdout",
     "output_type": "stream",
     "text": [
      "The ranking of the new node that was added is 4122\n"
     ]
    }
   ],
   "source": [
    "print('The ranking of the new node that was added is',rank4[-1])"
   ]
  },
  {
   "cell_type": "markdown",
   "id": "c45477e6",
   "metadata": {},
   "source": [
    "#### 5. Στο προηγούμενο ερώτημα αντιστρέψτε τα in-links με τα out-links. Συγκεκριμένα, βάλτε οι 10 σημαντικότεροι κόμβοι να ‘δείχνουν’ τη σελίδα σας και αυτή να δείχνει στους 10 πιο ασήμαντους. Ποια είναι τώρα η νέα ιεραρχική θέση του κόμβου σας αλλά και πως μεταβλήθηκε η θέση των 10 σημαντικών και ασήμαντων κόμβων ;"
   ]
  },
  {
   "cell_type": "markdown",
   "id": "938b3d27",
   "metadata": {},
   "source": [
    "### Note: \n",
    "#### This task asks to reverse what was aksed in the previous task, however afterwards it asks to add the 10 most important nodes as outlinks to the new node and add to the 10 least important nodes the new node as outlink.\n",
    "#### It is not clear if it needed to just reverse the inlinks-outlinks from the previous task"
   ]
  },
  {
   "cell_type": "markdown",
   "id": "aa0643c1",
   "metadata": {},
   "source": [
    "For this task we add one extra node in the matrix P. The shape of this matrix will become (685231,685231). The row with the new node will include the probability (1/10) in the bottom 10 nodes (outlinks). Also, some random nodes with the top 10 ranking will change their probability distributed in their rows as they will connect to the new node."
   ]
  },
  {
   "cell_type": "code",
   "execution_count": 116,
   "id": "080d65ba",
   "metadata": {},
   "outputs": [],
   "source": [
    "#Create DataFrame with the 10 worst nodes\n",
    "bottom10=sorted1[:10]\n",
    "bottom10=pd.DataFrame(bottom10)\n",
    "bottom10=bottom10.rename(columns={0:'outlink'})"
   ]
  },
  {
   "cell_type": "code",
   "execution_count": 117,
   "id": "554c22a8",
   "metadata": {},
   "outputs": [],
   "source": [
    "#Create DataFrame with the new node that will be added 10 times (as the new node has 10 outlinks)\n",
    "#The new node will take tha value 68230 as the nodes start from zero. In reality this node is 68231\n",
    "newnodes2=[n4-1]*10\n",
    "newnodes2=pd.DataFrame(newnodes2)\n",
    "newnodes2=newnodes2.rename(columns={0:'node'})"
   ]
  },
  {
   "cell_type": "code",
   "execution_count": 118,
   "id": "fab0b1de",
   "metadata": {},
   "outputs": [],
   "source": [
    "#Concatenate the new nodes and outlinks with the ones that already exist\n",
    "nodes5=pd.concat([nodes1,newnodes2])\n",
    "outlink5=pd.concat([outlink1,bottom10])"
   ]
  },
  {
   "cell_type": "code",
   "execution_count": 119,
   "id": "f77add98",
   "metadata": {},
   "outputs": [],
   "source": [
    "#Create DataFrame with the new outlink that will be added 10 times (as the new outlink has 10 different nodes)\n",
    "#The new outlink will take tha value 68230 as the outlink start from zero. In reality this outlink is 68231\n",
    "newoutlink2=[n4-1]*10\n",
    "newoutlink2=pd.DataFrame(newoutlink2)\n",
    "newoutlink2=newoutlink2.rename(columns={0:'outlink'})"
   ]
  },
  {
   "cell_type": "code",
   "execution_count": 120,
   "id": "7e70cd63",
   "metadata": {},
   "outputs": [],
   "source": [
    "#Rename top10 list column from outlink to node for this assignment task\n",
    "top10=top10.rename(columns={'outlink':'node'})"
   ]
  },
  {
   "cell_type": "code",
   "execution_count": 121,
   "id": "7011153e",
   "metadata": {},
   "outputs": [],
   "source": [
    "#Concatenate the new nodes and outlinks with the ones that already exist\n",
    "nodes5=pd.concat([nodes5,top10])\n",
    "outlink5=pd.concat([outlink5,newoutlink2])"
   ]
  },
  {
   "cell_type": "code",
   "execution_count": 122,
   "id": "eb5c82d9",
   "metadata": {},
   "outputs": [],
   "source": [
    "#Create the weights that the sprarse matrix P will contain\n",
    "\n",
    "#Calculate how many times each node appears in nodes5 DataFrame\n",
    "counts5 =nodes5['node'].value_counts()\n",
    "\n",
    "#Calculate the weight of each node\n",
    "nodes5['weight'] = nodes5['node'].apply(lambda x: 1/counts5[x])"
   ]
  },
  {
   "cell_type": "code",
   "execution_count": 123,
   "id": "3181e601",
   "metadata": {},
   "outputs": [],
   "source": [
    "#Construct sparse matrix P as in pageranking.pdf\n",
    "P5=sparse.csr_matrix((nodes5['weight'],(nodes5['node'],outlink5['outlink'])))"
   ]
  },
  {
   "cell_type": "code",
   "execution_count": 124,
   "id": "352b4c09",
   "metadata": {},
   "outputs": [],
   "source": [
    "#Number of nodes\n",
    "n5=P5.shape[0]\n",
    "\n",
    "#Create a starting vector X\n",
    "X0=np.array([1/n5]*n5)\n",
    "\n",
    "#Create v vector as in pageranking.pdf\n",
    "v5=np.array([1/n5]*n5)"
   ]
  },
  {
   "cell_type": "code",
   "execution_count": 125,
   "id": "dbd7e104",
   "metadata": {},
   "outputs": [],
   "source": [
    "#Calculate vector a\n",
    "a5=a_function(n5,P5)"
   ]
  },
  {
   "cell_type": "code",
   "execution_count": 126,
   "id": "54dc435e",
   "metadata": {},
   "outputs": [
    {
     "name": "stdout",
     "output_type": "stream",
     "text": [
      "Power method needed 2.1278555393218994 seconds and  92 iterations\n"
     ]
    }
   ],
   "source": [
    "#Calculate X vector with power method\n",
    "start_time = time.time()\n",
    "X5,iteration5=X_function(X0,P5,t,alpha1,a5,v5)\n",
    "\n",
    "#Calculate the time and number of iterations of power method\n",
    "print(\"Power method needed\",time.time()-start_time,\"seconds and \", iteration5, \"iterations\")"
   ]
  },
  {
   "cell_type": "code",
   "execution_count": 127,
   "id": "9949b26d",
   "metadata": {},
   "outputs": [],
   "source": [
    "#Rank each node based on the X\n",
    "rank5=rankdata(([-1 * i for i in X5]),method='ordinal')  \n",
    "\n",
    "#Sort the ranked nodes\n",
    "sorted5=np.argsort(rank5)"
   ]
  },
  {
   "cell_type": "markdown",
   "id": "7fddd024",
   "metadata": {},
   "source": [
    "### *** Note 3:\n",
    "#### Rankdata which is used above, ranks each node from best to worst, as it assigns the rank 1 to the node with the highest value in vector π and the rank 685230 to the worst node.\n",
    "#### Sorted4 vector sorts the nodes from the best to the worst node. (Due to convenience nodes start from zero to 685229. Hence, the nodes in reality need the addition of 1)"
   ]
  },
  {
   "cell_type": "code",
   "execution_count": 128,
   "id": "8e96b8f1",
   "metadata": {},
   "outputs": [
    {
     "name": "stdout",
     "output_type": "stream",
     "text": [
      "The ranking of the new node that was added is 12\n"
     ]
    }
   ],
   "source": [
    "print('The ranking of the new node that was added is',rank5[-1])"
   ]
  },
  {
   "cell_type": "code",
   "execution_count": 138,
   "id": "1dcd9eac",
   "metadata": {},
   "outputs": [
    {
     "name": "stdout",
     "output_type": "stream",
     "text": [
      "The best nodes in task 4\n",
      "[288239     10 225466  54131   1284 564115 288347  65123    114    115]\n",
      "The best nodes in task 5\n",
      "[288239     10 225466  54131   1284 564115    114    115 288347  65123]\n"
     ]
    }
   ],
   "source": [
    "print('The best nodes in task 4')\n",
    "print(sorted4[:10]+1)\n",
    "print('The best nodes in task 5')\n",
    "print(sorted5[:10]+1)"
   ]
  },
  {
   "cell_type": "code",
   "execution_count": 139,
   "id": "c1c1a6ae",
   "metadata": {},
   "outputs": [
    {
     "name": "stdout",
     "output_type": "stream",
     "text": [
      "The worst nodes in task 4\n",
      "[685175 685176 685177 685178 685179 685180 685185 685218 685227 685228]\n",
      "The worst nodes in task 5\n",
      "[685175 685176 685177 685178 685179 685180 685185 685218 685227 685228]\n"
     ]
    }
   ],
   "source": [
    "print('The worst nodes in task 4')\n",
    "print(sorted4[-10:]+1)\n",
    "print('The worst nodes in task 5')\n",
    "print(sorted5[-10:]+1)"
   ]
  },
  {
   "cell_type": "markdown",
   "id": "bbf1eb93",
   "metadata": {},
   "source": [
    "We observe that the 10 worst nodes in task 4 and task 5 remain the same as the addition of the new node do not affect the other nodes much. The 10 best nodes remain the same with the exception of two nodes that changed ranking with two others but all of them remained in the top 10 ranking."
   ]
  }
 ],
 "metadata": {
  "kernelspec": {
   "display_name": "Python 3 (ipykernel)",
   "language": "python",
   "name": "python3"
  },
  "language_info": {
   "codemirror_mode": {
    "name": "ipython",
    "version": 3
   },
   "file_extension": ".py",
   "mimetype": "text/x-python",
   "name": "python",
   "nbconvert_exporter": "python",
   "pygments_lexer": "ipython3",
   "version": "3.8.8"
  }
 },
 "nbformat": 4,
 "nbformat_minor": 5
}
